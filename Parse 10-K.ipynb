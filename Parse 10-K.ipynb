{
 "cells": [
  {
   "cell_type": "code",
   "execution_count": 1,
   "metadata": {
    "collapsed": true
   },
   "outputs": [],
   "source": [
    "from bs4 import BeautifulSoup"
   ]
  },
  {
   "cell_type": "code",
   "execution_count": 2,
   "metadata": {
    "collapsed": true
   },
   "outputs": [],
   "source": [
    "soup_raw = BeautifulSoup(open(\"MSFT 10K 2018 630.htm\"), 'html.parser')"
   ]
  },
  {
   "cell_type": "code",
   "execution_count": 3,
   "metadata": {
    "collapsed": true
   },
   "outputs": [],
   "source": [
    "text = soup_raw.get_text()\n",
    "text = text.replace(\"\\n\",\" \")\n",
    "text = text.replace(\"\\xa0\",\" \")"
   ]
  },
  {
   "cell_type": "code",
   "execution_count": 4,
   "metadata": {},
   "outputs": [
    {
     "data": {
      "text/plain": [
       "' 10-K 1 msft-10k_20180630.htm 10-K      msft-10k_20180630.htm         UNITED STATES  SECURITIES AND '"
      ]
     },
     "execution_count": 4,
     "metadata": {},
     "output_type": "execute_result"
    }
   ],
   "source": [
    "text[:100]"
   ]
  },
  {
   "cell_type": "code",
   "execution_count": 5,
   "metadata": {
    "collapsed": true
   },
   "outputs": [],
   "source": [
    "def find_nth(string, substring, n):\n",
    "    if (n == 1):\n",
    "        return string.find(substring)\n",
    "    else:\n",
    "        return string.find(substring, find_nth(string, substring, n - 1) + 1)"
   ]
  },
  {
   "cell_type": "code",
   "execution_count": 6,
   "metadata": {
    "collapsed": true
   },
   "outputs": [],
   "source": [
    "index = find_nth(text,\"Item\",4)"
   ]
  },
  {
   "cell_type": "code",
   "execution_count": 7,
   "metadata": {},
   "outputs": [
    {
     "data": {
      "text/plain": [
       "' 17                           Item 1B.     Unresolved Staff '"
      ]
     },
     "execution_count": 7,
     "metadata": {},
     "output_type": "execute_result"
    }
   ],
   "source": [
    "text[index-30:index+30]"
   ]
  },
  {
   "cell_type": "code",
   "execution_count": 8,
   "metadata": {},
   "outputs": [
    {
     "name": "stdout",
     "output_type": "stream",
     "text": [
      "['Item 1.     Business     ', 'Item 1A.     Risk Factors     ', 'Item 1B.     Unresolved Staff Comments     ', 'Item 2.     Properties     ', 'Item 3.     Legal Proceedings     ', 'Item 4.     Mine Safety Disclosures     ', 'Item 5.     Market for Registrant’s Common Equity, Related Stockholder Matters, and Issuer Purchases of Equity Securities     ', 'Item 6.     Selected Financial Data     ', 'Item 7.     Management’s Discussion and Analysis of Financial Condition and Results of Operations     ', 'Item 7A.     Quantitative and Qualitative Disclosures about Market Risk     ', 'Item 8.     Financial Statements and Supplementary Data     ', 'Item 9.     Changes in and Disagreements with Accountants on Accounting and Financial Disclosure     ', 'Item 9A.     Controls and Procedures     ', 'Item 9B.     Other Information     ', 'Item 10.     Directors, Executive Officers and Corporate Governance     ', 'Item 11.     Executive Compensation     ', 'Item 12.     Security Ownership of Certain Beneficial Owners and Management and Related Stockholder Matters     ', 'Item 13.     Certain Relationships and Related Transactions, and Director Independence     ', 'Item 14.     Principal Accounting Fees and Services     ', 'Item 15.     Exhibits, Financial Statement Schedules     ', 'Item 16.     Form ']\n",
      "------------------------Handle the last entry of Form 10-k\n"
     ]
    }
   ],
   "source": [
    "headers = [] \n",
    "\n",
    "for i in range(2,25):\n",
    "    index = find_nth(text,\"Item\",i)\n",
    "    header = text[index:index+8]\n",
    "    j=0\n",
    "    while(text[index+8+j].isdigit() == False):\n",
    "        j+=1 \n",
    "    \n",
    "    # handle item 16 Form 10-K\n",
    "    \n",
    "    header += text[index+8:index+8+j]\n",
    "    \n",
    "    if (\".\" in text[index+5:index+9]):\n",
    "        headers.append(header)\n",
    "    \n",
    "print(headers)\n",
    "print(\"------------------------Handle the last entry of Form 10-k\")"
   ]
  },
  {
   "cell_type": "code",
   "execution_count": 131,
   "metadata": {},
   "outputs": [
    {
     "name": "stdout",
     "output_type": "stream",
     "text": [
      "100                           Item 11.     Executive Compens\n"
     ]
    }
   ],
   "source": [
    "index = find_nth(text,\"Item\",17)\n",
    "print(text[index-30:index+30])"
   ]
  },
  {
   "cell_type": "code",
   "execution_count": 19,
   "metadata": {
    "collapsed": true
   },
   "outputs": [],
   "source": [
    "items = [\"Item 1.\", \"Item 1A.\", \"Item 1B.\", \"Item 2.\", \"Item 3.\", \n",
    "         \"Item 4.\",\"Item 5.\", \"Item 6.\",\"Item 7.\",\"Item 7A.\",\"Item 8.\",\n",
    "         \"Item 9.\",\"Item 9A.\",\"Item 9B.\",\"Item 10.\",\"Item 11.\",\"Item 12.\",\n",
    "         \"Item 13.\",\"Item 14.\", \"Item 15.\",\"Item 16.\",\"Signatures\" ]\n",
    "\n",
    "def parse_10k(text,items):\n",
    "    sections = {}\n",
    "    for i in range(len(items)-1):\n",
    "        section_start_index = find_nth(text,items[i],2)\n",
    "        if (section_start_index == -1):\n",
    "            # Also try upper case \n",
    "            print(\"trying upper case..{}\".format(items[i].upper()))\n",
    "            section_start_index = find_nth(text, items[i].upper(), 1)\n",
    "\n",
    "        section_end_index = find_nth(text,items[i+1],2) \n",
    "        if (section_end_index == -1):\n",
    "            # Also try upper case \n",
    "            section_end_index = find_nth(text, items[i+1].upper(), 1)\n",
    "        \n",
    "        if ( (section_start_index != -1) and (section_end_index != -1)  ):\n",
    "            sections[items[i]] = text[section_start_index:section_end_index]\n",
    "        else:\n",
    "            print(\"Something went wrong at iteration {}\".format(i))\n",
    "            print(section_start_index,section_end_index)\n",
    "            sections[items[i]] = \"\"\n",
    "    return sections \n",
    "    "
   ]
  },
  {
   "cell_type": "code",
   "execution_count": 16,
   "metadata": {},
   "outputs": [
    {
     "name": "stdout",
     "output_type": "stream",
     "text": [
      "wise.  PART I  ITEM 1. BUSINES\n"
     ]
    }
   ],
   "source": [
    "index = find_nth(text, \"ITEM\", 1)\n",
    "print(text[index-15:index+15])"
   ]
  },
  {
   "cell_type": "code",
   "execution_count": 20,
   "metadata": {},
   "outputs": [
    {
     "name": "stdout",
     "output_type": "stream",
     "text": [
      "trying upper case..ITEM 1.\n",
      "trying upper case..ITEM 1A.\n",
      "trying upper case..ITEM 1B.\n",
      "trying upper case..ITEM 2.\n",
      "trying upper case..ITEM 3.\n",
      "trying upper case..ITEM 4.\n",
      "trying upper case..ITEM 5.\n",
      "trying upper case..ITEM 6.\n",
      "trying upper case..ITEM 7.\n",
      "trying upper case..ITEM 7A.\n",
      "trying upper case..ITEM 8.\n",
      "trying upper case..ITEM 9.\n",
      "trying upper case..ITEM 9B.\n",
      "trying upper case..ITEM 10.\n",
      "trying upper case..ITEM 11.\n",
      "trying upper case..ITEM 12.\n",
      "trying upper case..ITEM 13.\n",
      "trying upper case..ITEM 14.\n",
      "trying upper case..ITEM 15.\n",
      "trying upper case..ITEM 16.\n"
     ]
    }
   ],
   "source": [
    "sections_msft = parse_10k(text, items)"
   ]
  },
  {
   "cell_type": "code",
   "execution_count": 36,
   "metadata": {},
   "outputs": [
    {
     "name": "stdout",
     "output_type": "stream",
     "text": [
      "key is Item 7A.\n",
      "ITEM 7A. QUANTITATIVE AND QUALITATIVE DISCLOSURES ABOUT MARKET RISK  RISKS  We are exposed to economic risk from foreign exchange rates, interest rate\n",
      "--\n",
      "se in equity market prices        (140  )         (323  )      Fair Value                                                        50  PART II Item 8   \n",
      "------------------------\n",
      "key is Item 1A.\n",
      "ITEM 1A. RISK FACTORS  Our operations and financial results are subject to various risks and uncertainties, including those described below, that coul\n",
      "--\n",
      "ged, it could negatively impact our revenues or margins, or ability to attract the most highly qualified employees.     28  PART I Item 1B, 2, 3, 4   \n",
      "------------------------\n",
      "key is Item 1B.\n",
      "ITEM 1B. UNRESOLVED STAFF COMMENTS  We have received no written comments regarding our periodic or current reports from the staff of the Securities an\n",
      "--\n",
      " staff of the Securities and Exchange Commission that were issued 180 days or more preceding the end of our fiscal year 2018 that remain unresolved.  \n",
      "------------------------\n",
      "key is Item 6.\n",
      "ITEM 6. SELECTED FINANCIAL DATA  FINANCIAL HIGHLIGHTS        (In millions, except per share data)                                                     \n",
      "--\n",
      "vices business (“NDS”). NDS has been included in our consolidated results of operations starting on the acquisition date.        31  PART II Item 7   \n",
      "------------------------\n",
      "key is Item 5.\n",
      "ITEM 5. MARKET FOR REGISTRANT’S COMMON EQUITY, RELATED STOCKHOLDER MATTERS, AND ISSUER PURCHASES OF EQUITY SECURITIES  MARKET AND STOCKHOLDERS  Our co\n",
      "--\n",
      "an. The above table excludes shares repurchased to settle employee tax withholding related to the vesting of stock awards.       30  PART II Item 6   \n",
      "------------------------\n",
      "key is Item 4.\n",
      "ITEM 4. MINE SAFETY DISCLOSURES  Not applicable.     29  PART II Item 5   PART II  \n",
      "--\n",
      "ITEM 4. MINE SAFETY DISCLOSURES  Not applicable.     29  PART II Item 5   PART II  \n",
      "------------------------\n",
      "key is Item 8.\n",
      "ITEM 8. FINANCIAL STATEMENTS AND SUPPLEMENTARY DATA  INCOME STATEMENTS        (In millions, except per share amounts)                                 \n",
      "--\n",
      ". /s/    DELOITTE & TOUCHE LLP  Seattle, Washington  August 3, 2018  We have served as the Company’s auditor since 1983.     97  PART II Item 9, 9A   \n",
      "------------------------\n",
      "key is Item 10.\n",
      "ITEM 10. DIRECTORS, EXECUTIVE OFFICERS AND CORPORATE GOVERNANCE  A list of our executive officers and biographical information appears in Part I, Item\n",
      "--\n",
      "f Financial Officer, or Chief Accounting Officer, we will disclose the nature of the amendment or waiver on that website or in a report on Form 8-K.  \n",
      "------------------------\n",
      "key is Item 7.\n",
      "ITEM 7. MANAGEMENT’S DISCUSSION AND ANALYSIS OF FINANCIAL CONDITION AND RESULTS OF OPERATIONS  The following Management’s Discussion and Analysis of F\n",
      "--\n",
      " Financial Officer         Frank H. Brod    Corporate Vice President, Finance and Administration;Chief Accounting Officer       49  PART II Item 7A   \n",
      "------------------------\n",
      "key is Item 14.\n",
      "ITEM 14. PRINCIPAL ACCOUNTING FEES AND SERVICES  Information concerning principal accountant fees and services appears in the Proxy Statement under th\n",
      "--\n",
      "l of audit and permissible non-audit services of independent auditor” and is incorporated herein by reference.        100  PART IV Item 15   PART IV  \n",
      "------------------------\n",
      "key is Item 9B.\n",
      "ITEM 9B. OTHER INFORMATION  During the quarter ended December 31, 2017, Microsoft provided software services to a person or entity identified under se\n",
      "--\n",
      "sociated revenues. Microsoft has ceased providing these software services to these entities and has no intention of doing so in the future. PART III  \n",
      "------------------------\n",
      "key is Item 15.\n",
      "ITEM 15. EXHIBITS, FINANCIAL STATEMENT SCHEDULES      (a)  Financial Statements and Schedules  The financial statements are set forth under Item 8 of \n",
      "--\n",
      "                                                *  Indicates a management contract or compensatory plan or arrangement      **  Furnished, not filed  \n",
      "------------------------\n",
      "key is Item 11.\n",
      "ITEM 11. EXECUTIVE COMPENSATION  The information in the Proxy Statement set forth under the captions “Director compensation,” “Named executive officer\n",
      "--\n",
      "mpensation,” “Compensation Committee interlocks and insider participation,” and “Compensation Committee report” is incorporated herein by reference.  \n",
      "------------------------\n",
      "key is Item 3.\n",
      "ITEM 3. LEGAL PROCEEDINGS  While not material to the Company, the Company makes the following annual report of the general activities of the Company’s\n",
      "--\n",
      "ncies of the Notes to Financial Statements (Part II, Item 8 of this Form 10-K) for information regarding legal proceedings in which we are involved.  \n",
      "------------------------\n",
      "key is Item 2.\n",
      "ITEM 2. PROPERTIES  Our corporate headquarters are located in Redmond, Washington. We have approximately 15 million square feet of space located in Ki\n",
      "--\n",
      "                                                          Total          24           26             50                                               \n",
      "------------------------\n",
      "key is Item 12.\n",
      "ITEM 12. SECURITY OWNERSHIP OF CERTAIN BENEFICIAL OWNERS AND MANAGEMENT AND RELATED STOCKHOLDER MATTERS  The information in the Proxy Statement set fo\n",
      "--\n",
      "the captions “Stock ownership information,” “Principal shareholders” and “Equity compensation plan information” is incorporated herein by reference.  \n",
      "------------------------\n",
      "key is Item 1.\n",
      "ITEM 1. BUSINESS  GENERAL  Embracing Our Future Microsoft is a technology company whose mission is to empower every person and every organization on t\n",
      "--\n",
      "ted in Microsoft to review the information we post on the social media channels listed on our Investor Relations website.        16  PART I Item 1A   \n",
      "------------------------\n",
      "key is Item 9.\n",
      "ITEM 9. CHANGES IN AND DISAGREEMENTS WITH ACCOUNTANTS ON ACCOUNTING AND FINANCIAL DISCLOSURE  Not applicable.  ITEM 9A. CONTROLS AND PROCEDURES  Under\n",
      "--\n",
      "as of June 30, 2018. Deloitte & Touche LLP has audited our internal control over financial reporting as of June 30, 2018; their report is included in \n",
      "------------------------\n",
      "key is Item 9A.\n",
      "Item 9A.  There were no changes in our internal control over financial reporting during the quarter ended June 30, 2018 that have materially affected,\n",
      "--\n",
      " or procedures may deteriorate. /s/    DELOITTE & TOUCHE LLP  Seattle, Washington  August 3, 2018      99  PART II, III Item 9B, 10, 11, 12, 13, 14   \n",
      "------------------------\n",
      "key is Item 13.\n",
      "ITEM 13. CERTAIN RELATIONSHIPS AND RELATED TRANSACTIONS, AND DIRECTOR INDEPENDENCE  The information set forth in the Proxy Statement under the caption\n",
      "--\n",
      "Proxy Statement under the captions “Director independence” and “Certain relationships and related transactions” is incorporated herein by reference.  \n",
      "------------------------\n",
      "key is Item 16.\n",
      "ITEM 16. FORM 10-K SUMMARY None.     105    \n",
      "--\n",
      "ITEM 16. FORM 10-K SUMMARY None.     105    \n",
      "------------------------\n"
     ]
    }
   ],
   "source": [
    "for key, item in sections_msft.items():\n",
    "    print(\"key is {}\".format(key))\n",
    "    print(item[:150])\n",
    "    print(\"--\")\n",
    "    print(item[-150:])\n",
    "    print(\"------------------------\")"
   ]
  },
  {
   "cell_type": "code",
   "execution_count": 61,
   "metadata": {},
   "outputs": [],
   "source": [
    "def find_nth(string, substring, n):\n",
    "    if (n == 1):\n",
    "        return string.find(substring)\n",
    "    else:\n",
    "        return string.find(substring, find_nth(string, substring, n - 1) + 1)\n",
    "items = [\"Item 1.\", \"Item 1A.\", \"Item 1B.\", \"Item 2.\", \"Item 3.\", \n",
    "         \"Item 4.\",\"Item 5.\", \"Item 6.\",\"Item 7.\",\"Item 7A.\",\"Item 8.\",\n",
    "         \"Item 9.\",\"Item 9A.\",\"Item 9B.\",\"Item 10.\",\"Item 11.\",\"Item 12.\",\n",
    "         \"Item 13.\",\"Item 14.\", \"Item 15.\",\"Item 16.\",\"Signatures\" ]\n",
    "\n",
    "def parse_10k(text,items):\n",
    "    sections = {}\n",
    "    for i in range(len(items)-1):\n",
    "        section_start_index = find_nth(text,items[i],2)\n",
    "        if (section_start_index == -1):\n",
    "            # Also try upper case \n",
    "            print(\"trying upper case..{}\".format(items[i].upper()))\n",
    "            section_start_index = find_nth(text, items[i].upper(), 1)\n",
    "\n",
    "        section_end_index = find_nth(text,items[i+1],2) \n",
    "        if (section_end_index == -1):\n",
    "            # Also try upper case \n",
    "            section_end_index = find_nth(text, items[i+1].upper(), 1)\n",
    "        \n",
    "        if ( (section_start_index != -1) and (section_end_index != -1)  ):\n",
    "            sections[items[i]] = text[section_start_index:section_end_index]\n",
    "        else:\n",
    "            print(\"Something went wrong for {}\".format(items[i]))\n",
    "            print(section_start_index,section_end_index)\n",
    "            sections[items[i]] = \"\"\n",
    "            \n",
    "        # Process for 10-Ks without Item 16 \n",
    "        if ( (items[i+1] == \"Item 16.\") and (section_end_index == -1 ) ):\n",
    "            # Just skip to Signatures\n",
    "            section_end_index = find_nth(text,items[i+2],2)\n",
    "            \n",
    "            # try upper case\n",
    "            if (section_end_index == -1):\n",
    "                section_end_index = find_nth(text,items[i+2].upper(),1)\n",
    "           \n",
    "            if ( (section_start_index != -1) and (section_end_index != -1)  ):\n",
    "                sections[items[i]] = text[section_start_index:section_end_index]\n",
    "            else:\n",
    "                print(\"Something went wrong for {}\".format(items[i]))\n",
    "                print(section_start_index,section_end_index)\n",
    "                sections[items[i]] = \"\"\n",
    "                break \n",
    "        \n",
    "    return sections \n",
    "    \n",
    "    \n",
    "def process_10_k(html_file):\n",
    "    soup_raw = BeautifulSoup(open(html_file), 'html.parser')\n",
    "    text = soup_raw.get_text()\n",
    "    text = text.replace(\"\\n\",\" \")\n",
    "    text = text.replace(\"\\xa0\",\" \") \n",
    "    \n",
    "    sections = parse_10k(text, items) \n",
    "    return sections\n",
    "\n",
    "def check_correct(sections):\n",
    "    for key, item in sections.items():\n",
    "        print(\"key is {}\".format(key))\n",
    "        print(item[:150])\n",
    "        print(\"--\")\n",
    "        print(item[-150:])\n",
    "        print(\"------------------------\")"
   ]
  },
  {
   "cell_type": "code",
   "execution_count": 59,
   "metadata": {},
   "outputs": [
    {
     "name": "stdout",
     "output_type": "stream",
     "text": [
      "trying upper case..ITEM 1.\n",
      "trying upper case..ITEM 1A.\n",
      "trying upper case..ITEM 1B.\n",
      "trying upper case..ITEM 2.\n",
      "trying upper case..ITEM 3.\n",
      "trying upper case..ITEM 4.\n",
      "trying upper case..ITEM 5.\n",
      "trying upper case..ITEM 6.\n",
      "trying upper case..ITEM 7.\n",
      "trying upper case..ITEM 7A.\n",
      "trying upper case..ITEM 8.\n",
      "trying upper case..ITEM 9.\n",
      "trying upper case..ITEM 9B.\n",
      "trying upper case..ITEM 10.\n",
      "trying upper case..ITEM 11.\n",
      "trying upper case..ITEM 12.\n",
      "trying upper case..ITEM 13.\n",
      "trying upper case..ITEM 14.\n",
      "trying upper case..ITEM 15.\n",
      "trying upper case..ITEM 16.\n"
     ]
    },
    {
     "data": {
      "text/plain": [
       "'ITEM 1. BUSINESS  GENERAL  Embracing Our Future Microsoft is a technology company whose mission is t'"
      ]
     },
     "execution_count": 59,
     "metadata": {},
     "output_type": "execute_result"
    }
   ],
   "source": [
    "msft = process_10_k(\"MSFT 10K 2018 630.htm\")\n",
    "msft[\"Item 1.\"][:100]"
   ]
  },
  {
   "cell_type": "code",
   "execution_count": 60,
   "metadata": {},
   "outputs": [
    {
     "name": "stdout",
     "output_type": "stream",
     "text": [
      "Something went wrong for Item 15.\n",
      "269754 -1\n",
      "trying upper case..ITEM 16.\n",
      "Something went wrong for Item 16.\n",
      "-1 274689\n"
     ]
    },
    {
     "data": {
      "text/plain": [
       "'Item 1.    Business   This Annual Report on Form 10-K and the documents incorporated herein by refer'"
      ]
     },
     "execution_count": 60,
     "metadata": {},
     "output_type": "execute_result"
    }
   ],
   "source": [
    "amzn = process_10_k(\"AMZN 10K 2007.html\")\n",
    "amzn[\"Item 1.\"][:100]"
   ]
  },
  {
   "cell_type": "code",
   "execution_count": 62,
   "metadata": {},
   "outputs": [
    {
     "name": "stdout",
     "output_type": "stream",
     "text": [
      "key is Item 7A.\n",
      "Item 7A.    Quantitative and Qualitative Disclosure About Market Risk  We are exposed to market risk for the effect of interest rate changes, foreign \n",
      "--\n",
      "s would result in a corresponding decline in total fair value of approximately $10 million, $15 million, and $25 million.    42    Table of Contents  \n",
      "------------------------\n",
      "key is Item 1A.\n",
      "Item 1A.    Risk Factors  Please carefully consider the following risk factors. If any of the following risks occur, our business, financial condition\n",
      "--\n",
      "n unlawful manner, or violating the proprietary rights of others, and could face civil or criminal liability for unlawful activities by our sellers.  \n",
      "------------------------\n",
      "key is Item 1B.\n",
      "Item 1B.     Unresolved Staff Comments  None.  \n",
      "--\n",
      "Item 1B.     Unresolved Staff Comments  None.  \n",
      "------------------------\n",
      "key is Item 6.\n",
      "Item 6.     Selected Consolidated Financial Data   The following selected consolidated financial data should be read in conjunction with the consolida\n",
      "--\n",
      "scussion and Analysis of Financial Condition and Results of Operations—Results of Operations—Non-GAAP Financial Measures.”    21    Table of Contents \n",
      "------------------------\n",
      "key is Item 5.\n",
      "Item 5.     Market for the Registrant’s Common Stock, Related Shareholder Matters and Issuer Purchases of Equity Securities  Market Information  Our c\n",
      "--\n",
      "dity and Capital Resources.”  Recent Sales of Unregistered Securities  None.  Issuer Purchases of Equity Securities  None.    20    Table of Contents \n",
      "------------------------\n",
      "key is Item 4.\n",
      "Item 4.     Submission of Matters to a Vote of Security Holders  No matters were submitted for a vote of our shareholders during the fourth quarter of\n",
      "--\n",
      " of Security Holders  No matters were submitted for a vote of our shareholders during the fourth quarter of 2007.    19    Table of Contents PART II  \n",
      "------------------------\n",
      "key is Item 8.\n",
      "Item 8.    Financial Statements and Supplementary Data  INDEX TO CONSOLIDATED FINANCIAL STATEMENTS               Page    Report of Ernst & Young LLP, \n",
      "--\n",
      " This is due to the effects of rounding and changes in the number of weighted-average shares outstanding for each period.    76    Table of Contents  \n",
      "------------------------\n",
      "key is Item 10.\n",
      "Item 10.    Directors and Executive Officers of the Registrant   Information regarding our Executive Officers required by Item 10 of Part III is set f\n",
      "--\n",
      "well as waivers of the provisions thereof, on our investor relations website under the heading “Corporate Governance” at www.amazon.com/ir website.   \n",
      "------------------------\n",
      "key is Item 7.\n",
      "Item 7.     Management’s Discussion and Analysis of Financial Condition and Results of Operations   Forward-Looking Statements  This Annual Report on \n",
      "--\n",
      " revisions to stock-based compensation estimates.  These projections are subject to substantial uncertainty. See Item 1A of Part I, “Risk Factors.”   \n",
      "------------------------\n",
      "key is Item 14.\n",
      "Item 14.    Principal Accountant Fees and Services   Information required by Item 14 of Part III is included in our Proxy Statement relating our 2008 \n",
      "--\n",
      "4 of Part III is included in our Proxy Statement relating our 2008 Annual Meeting of Shareholders and is incorporated herein by reference.  PART IV   \n",
      "------------------------\n",
      "key is Item 9B.\n",
      "Item 9B.    Other Information   None.  PART III   \n",
      "--\n",
      "Item 9B.    Other Information   None.  PART III   \n",
      "------------------------\n",
      "key is Item 15.\n",
      "Item 15.    Exhibits, Financial Statement Schedules   (a) List of Documents Filed as a Part of This Report:   (1) Index to Consolidated Financial Stat\n",
      "--\n",
      "inancial Officer of Amazon.com, Inc., pursuant to 18 U.S.C. Section 1350.      † Executive Compensation Plan or Agreement    81    Table of Contents  \n",
      "------------------------\n",
      "key is Item 11.\n",
      "Item 11.    Executive Compensation   Information required by Item 11 of Part III is included in our Proxy Statement relating to our 2008 Annual Meetin\n",
      "--\n",
      "Item 11 of Part III is included in our Proxy Statement relating to our 2008 Annual Meeting of Shareholders and is incorporated herein by reference.   \n",
      "------------------------\n",
      "key is Item 3.\n",
      "Item 3.     Legal Proceedings  See Item 8 of Part II, “Financial Statements and Supplementary Data—Note 6—Commitments and Contingencies—Legal Proceedi\n",
      "--\n",
      "     Legal Proceedings  See Item 8 of Part II, “Financial Statements and Supplementary Data—Note 6—Commitments and Contingencies—Legal Proceedings.”  \n",
      "------------------------\n",
      "key is Item 2.\n",
      "Item 2.     Properties  We do not own any real estate. As of December 31, 2007, we operated the following facilities:               Description of Use\n",
      "--\n",
      "We believe our properties are suitable and adequate for our present needs, and we periodically evaluate whether additional facilities are necessary.  \n",
      "------------------------\n",
      "key is Item 12.\n",
      "Item 12.    Security Ownership of Certain Beneficial Owners and Management and Related Shareholder Matters   Information required by Item 12 of Part I\n",
      "--\n",
      "Item 12 of Part III is included in our Proxy Statement relating to our 2008 Annual Meeting of Shareholders and is incorporated herein by reference.   \n",
      "------------------------\n",
      "key is Item 1.\n",
      "Item 1.    Business   This Annual Report on Form 10-K and the documents incorporated herein by reference contain forward-looking statements based on e\n",
      "--\n",
      "red, Former Chairman, Reader’s Digest Association, Inc.   Patricia Q. Stonesifer    51     Chief Executive Officer, Bill & Melinda Gates Foundation   \n",
      "------------------------\n",
      "key is Item 9.\n",
      "Item 9.      Changes in and Disagreements with Accountants On Accounting and Financial Disclosure   None.   \n",
      "--\n",
      "Item 9.      Changes in and Disagreements with Accountants On Accounting and Financial Disclosure   None.   \n",
      "------------------------\n",
      "key is Item 9A.\n",
      "Item 9A.    Controls and Procedures  Evaluation of Disclosure Controls and Procedures  We carried out an evaluation required by the 1934 Act, under th\n",
      "--\n",
      "bruary 8, 2008 expressed an unqualified opinion thereon.  /S/    ERNST & YOUNG LLP  Seattle, Washington  February 8, 2008    78    Table of Contents  \n",
      "------------------------\n",
      "key is Item 13.\n",
      "Item 13.    Certain Relationships and Related Transactions   Information required by Item 13 of Part III is included in our Proxy Statement relating t\n",
      "--\n",
      "Item 13 of Part III is included in our Proxy Statement relating to our 2008 Annual Meeting of Shareholders and is incorporated herein by reference.   \n",
      "------------------------\n",
      "key is Item 16.\n",
      "\n",
      "--\n",
      "\n",
      "------------------------\n"
     ]
    }
   ],
   "source": [
    "check_correct(amzn)"
   ]
  },
  {
   "cell_type": "code",
   "execution_count": null,
   "metadata": {
    "collapsed": true
   },
   "outputs": [],
   "source": []
  }
 ],
 "metadata": {
  "kernelspec": {
   "display_name": "Python [conda env:tensorflow]",
   "language": "python",
   "name": "conda-env-tensorflow-py"
  },
  "language_info": {
   "codemirror_mode": {
    "name": "ipython",
    "version": 3
   },
   "file_extension": ".py",
   "mimetype": "text/x-python",
   "name": "python",
   "nbconvert_exporter": "python",
   "pygments_lexer": "ipython3",
   "version": "3.5.4"
  }
 },
 "nbformat": 4,
 "nbformat_minor": 2
}
